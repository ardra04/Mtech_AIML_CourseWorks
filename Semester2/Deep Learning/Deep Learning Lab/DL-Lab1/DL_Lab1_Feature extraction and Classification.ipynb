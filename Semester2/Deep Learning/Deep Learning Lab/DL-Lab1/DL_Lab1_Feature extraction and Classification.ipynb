{
  "nbformat": 4,
  "nbformat_minor": 0,
  "metadata": {
    "colab": {
      "provenance": []
    },
    "kernelspec": {
      "name": "python3",
      "display_name": "Python 3"
    },
    "language_info": {
      "name": "python"
    }
  },
  "cells": [
    {
      "cell_type": "markdown",
      "source": [
        "**Dataset** : Signlanguage MNIST  : https://www.kaggle.com/datasets/datamunge/sign-language-mnist\n",
        "\n",
        "**Features Extracted using** HOG\n",
        "\n",
        "**Classification done using** SVM"
      ],
      "metadata": {
        "id": "Liml3kue5StE"
      }
    },
    {
      "cell_type": "code",
      "execution_count": 1,
      "metadata": {
        "id": "hxa7K7Rq2eIT"
      },
      "outputs": [],
      "source": [
        "#import all necessary libraries\n",
        "import pandas as pd\n",
        "import numpy as np\n",
        "import matplotlib.pyplot as plt\n",
        "import cv2\n",
        "import os\n",
        "from skimage.feature import hog\n",
        "from skimage import data, exposure\n",
        "from sklearn.model_selection import train_test_split\n",
        "from sklearn.svm import SVC\n",
        "from sklearn.metrics import accuracy_score,confusion_matrix, classification_report\n",
        "from sklearn.preprocessing import StandardScaler"
      ]
    },
    {
      "cell_type": "code",
      "source": [
        "#mount google drive in colab\n",
        "from google.colab import drive\n",
        "drive.mount('/content/drive')\n",
        "\n",
        "train_df = pd.read_csv('/content/drive/MyDrive/Mnist/sign_mnist_train/sign_mnist_train.csv')\n",
        "test_df = pd.read_csv('/content/drive/MyDrive/Mnist/sign_mnist_test/sign_mnist_test.csv')"
      ],
      "metadata": {
        "id": "IBTgzesK2qU9",
        "colab": {
          "base_uri": "https://localhost:8080/"
        },
        "outputId": "11d08db9-08c2-4724-b906-b1c86a382124"
      },
      "execution_count": 2,
      "outputs": [
        {
          "output_type": "stream",
          "name": "stdout",
          "text": [
            "Mounted at /content/drive\n"
          ]
        }
      ]
    },
    {
      "cell_type": "code",
      "source": [
        "# Extract the image data and labels\n",
        "X_train = train_df.iloc[:, 1:].values           #features\n",
        "y_train = train_df.iloc[:, 0].values             #label\n",
        "X_test = test_df.iloc[:, 1:].values\n",
        "y_test = test_df.iloc[:, 0].values\n",
        "\n",
        "# Standardize the image data\n",
        "scaler = StandardScaler()\n",
        "X_train = scaler.fit_transform(X_train)\n",
        "X_test = scaler.transform(X_test)"
      ],
      "metadata": {
        "id": "8eRWn4j328xD"
      },
      "execution_count": 3,
      "outputs": []
    },
    {
      "cell_type": "code",
      "source": [
        "# Apply HOG to extract features from the images   #shape,edge\n",
        "hog_features_train = []\n",
        "\n",
        "for image in X_train:\n",
        "    hog_features = hog(image.reshape((28, 28)), orientations=9, pixels_per_cell=(8, 8), cells_per_block=(2, 2), visualize=False)\n",
        "    hog_features_train.append(hog_features)\n",
        "hog_features_train = np.array(hog_features_train)\n",
        "hog_features_test = []\n",
        "\n",
        "\n",
        "for image in X_test:\n",
        "    hog_features = hog(image.reshape((28, 28)), orientations=9, pixels_per_cell=(8, 8), cells_per_block=(2, 2), visualize=False)    #reshape\n",
        "    hog_features_test.append(hog_features)\n",
        "hog_features_test = np.array(hog_features_test)"
      ],
      "metadata": {
        "id": "1u8gdtet280T"
      },
      "execution_count": 4,
      "outputs": []
    },
    {
      "cell_type": "code",
      "source": [
        "# Train an SVM classifier and make predictions on testset\n",
        "svm = SVC()\n",
        "svm.fit(hog_features_train, y_train)\n",
        "y_pred = svm.predict(hog_features_test)"
      ],
      "metadata": {
        "id": "UgRA7mm-283l"
      },
      "execution_count": 5,
      "outputs": []
    },
    {
      "cell_type": "code",
      "source": [
        "# Evaluate the accuracy of the classifier\n",
        "accuracy = accuracy_score(y_test, y_pred)\n",
        "print('Accuracy:', accuracy)"
      ],
      "metadata": {
        "colab": {
          "base_uri": "https://localhost:8080/"
        },
        "id": "q5JuwTzO3X_s",
        "outputId": "f5662c53-d891-4c17-e090-befafc0e73c5"
      },
      "execution_count": 6,
      "outputs": [
        {
          "output_type": "stream",
          "name": "stdout",
          "text": [
            "Accuracy: 0.9198271054099275\n"
          ]
        }
      ]
    },
    {
      "cell_type": "code",
      "source": [
        "#confusion matrix\n",
        "\n",
        "confusion_matrix(y_test,y_pred)\n"
      ],
      "metadata": {
        "colab": {
          "base_uri": "https://localhost:8080/"
        },
        "id": "dMZPPinDlDif",
        "outputId": "17f3265c-bd5e-4496-9e77-0ed2ddb065cd"
      },
      "execution_count": 7,
      "outputs": [
        {
          "output_type": "execute_result",
          "data": {
            "text/plain": [
              "array([[329,   0,   0,   0,   2,   0,   0,   0,   0,   0,   0,   0,   0,\n",
              "          0,   0,   0,   0,   0,   0,   0,   0,   0,   0,   0],\n",
              "       [  0, 403,   0,   0,   0,   0,   0,   0,   0,  20,   0,   0,   0,\n",
              "          0,   0,   0,   0,   0,   0,   8,   0,   1,   0,   0],\n",
              "       [  0,   0, 310,   0,   0,   0,   0,   0,   0,   0,   0,   0,   0,\n",
              "          0,   0,   0,   0,   0,   0,   0,   0,   0,   0,   0],\n",
              "       [  1,   0,   0, 243,   0,   0,   0,   0,   0,   0,   0,   0,   0,\n",
              "          0,   0,   0,   0,   1,   0,   0,   0,   0,   0,   0],\n",
              "       [  1,   0,   0,   0, 497,   0,   0,   0,   0,   0,   0,   0,   0,\n",
              "          0,   0,   0,   0,   0,   0,   0,   0,   0,   0,   0],\n",
              "       [  0,   0,   0,   0,   0, 247,   0,   0,   0,   0,   0,   0,   0,\n",
              "          0,   0,   0,   0,   0,   0,   0,   0,   0,   0,   0],\n",
              "       [  0,   0,   0,   0,   0,   0, 326,  22,   0,   0,   0,   0,   0,\n",
              "          0,   0,   0,   0,   0,   0,   0,   0,   0,   0,   0],\n",
              "       [  0,   0,   0,   0,   0,   0,  17, 419,   0,   0,   0,   0,   0,\n",
              "          0,   0,   0,   0,   0,   0,   0,   0,   0,   0,   0],\n",
              "       [  0,   0,   0,   0,   0,   0,   0,   0, 272,   0,   0,   0,   0,\n",
              "          0,   0,   0,   0,   0,   0,   0,   0,   0,   0,  16],\n",
              "       [  0,   0,   0,  14,   0,   0,   0,   0,   0, 273,   0,   0,   0,\n",
              "          0,   0,   0,  21,   0,   0,  23,   0,   0,   0,   0],\n",
              "       [  0,   0,   0,   0,   0,   0,   0,   0,   0,   0, 209,   0,   0,\n",
              "          0,   0,   0,   0,   0,   0,   0,   0,   0,   0,   0],\n",
              "       [  0,   0,   0,   1,  42,   0,   0,   0,   0,   0,   0, 305,  27,\n",
              "          0,   0,   0,   0,  19,   0,   0,   0,   0,   0,   0],\n",
              "       [  0,   0,   0,   7,   0,   0,   0,   0,   0,   0,   0,  44, 219,\n",
              "          0,   0,   0,   0,  21,   0,   0,   0,   0,   0,   0],\n",
              "       [  0,   0,   0,   4,   2,   0,   0,   0,   0,   0,   0,   0,   0,\n",
              "        224,   0,   0,   0,   0,   0,   0,   0,   0,  16,   0],\n",
              "       [  0,   0,   0,   0,   0,   0,   0,   0,   0,   0,   0,   0,   0,\n",
              "          0, 347,   0,   0,   0,   0,   0,   0,   0,   0,   0],\n",
              "       [  0,   0,   0,   0,   0,   0,   0,   0,   0,   0,   0,   0,   0,\n",
              "          0,   0, 164,   0,   0,   0,   0,   0,   0,   0,   0],\n",
              "       [  0,   0,   0,   0,   0,   0,   0,   0,   0,   0,   0,   0,   0,\n",
              "          0,   0,   0, 144,   0,   0,   0,   0,   0,   0,   0],\n",
              "       [  0,   0,   0,   0,  14,   0,   0,   0,   1,   0,   0,   1,  20,\n",
              "          0,   0,   0,  20, 190,   0,   0,   0,   0,   0,   0],\n",
              "       [  0,   0,   0,   0,   0,   0,   1,   0,   0,   0,   7,   0,   0,\n",
              "          0,   0,   0,   0,   0, 219,   0,   0,   0,  21,   0],\n",
              "       [  0,   0,   0,   1,   0,   0,   0,   0,   0,  12,   0,   0,   0,\n",
              "          0,   0,   0,  48,   0,   0, 205,   0,   0,   0,   0],\n",
              "       [  0,   0,   0,   0,   0,   0,   0,   0,   0,   0,   0,   0,   0,\n",
              "          0,   0,   0,   1,   0,   0,  32, 286,  27,   0,   0],\n",
              "       [  0,   0,   0,   0,   0,   0,   0,   0,   0,   0,   0,   0,   0,\n",
              "          0,   0,   0,   0,   0,   0,   0,   0, 206,   0,   0],\n",
              "       [  0,   0,   0,   0,   0,   0,   0,   0,   0,   0,   0,   0,   0,\n",
              "          0,   0,   0,   0,   0,   0,   0,   0,   0, 267,   0],\n",
              "       [  0,   0,   0,   0,   0,  15,   0,   0,   0,   0,   0,   4,   9,\n",
              "          0,   0,   0,   0,   0,   0,   0,   6,   5,   0, 293]])"
            ]
          },
          "metadata": {},
          "execution_count": 7
        }
      ]
    }
  ]
}