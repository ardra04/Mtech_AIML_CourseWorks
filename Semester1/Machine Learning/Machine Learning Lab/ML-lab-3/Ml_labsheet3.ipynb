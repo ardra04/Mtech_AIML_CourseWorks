{
  "cells": [
    {
      "attachments": {},
      "cell_type": "markdown",
      "metadata": {
        "id": "JxtBooAKiqXC"
      },
      "source": [
        "⚡**Labsheet 3**"
      ]
    },
    {
      "cell_type": "markdown",
      "metadata": {
        "id": "1_YXnqHPitm0"
      },
      "source": [
        "⚡**Question**\n",
        "\n",
        "1.  Implement SVM of dataset worked out in class\n",
        "![image.png](data:image/png;base64,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)"
      ]
    },
    {
      "cell_type": "markdown",
      "metadata": {
        "id": "Rxwx54jPjvDI"
      },
      "source": [
        "⚡**Solution**"
      ]
    },
    {
      "cell_type": "code",
      "execution_count": 3,
      "metadata": {
        "id": "eObNyuwwdwnz"
      },
      "outputs": [],
      "source": [
        "import numpy as np \n",
        "import pandas as pd \n",
        "import matplotlib.pyplot as plt\n",
        "import seaborn as sns\n",
        "from sklearn.svm import SVC\n",
        "from sklearn import svm"
      ]
    },
    {
      "cell_type": "code",
      "execution_count": 2,
      "metadata": {
        "colab": {
          "base_uri": "https://localhost:8080/",
          "height": 300
        },
        "id": "f1TgnvU0dg5W",
        "outputId": "bfe6752c-e2ab-427a-af23-954b4f9c1a28"
      },
      "outputs": [
        {
          "data": {
            "text/html": [
              "\n",
              "  <div id=\"df-910b6b52-0bd1-4997-a2f4-54dbf40f35fb\">\n",
              "    <div class=\"colab-df-container\">\n",
              "      <div>\n",
              "<style scoped>\n",
              "    .dataframe tbody tr th:only-of-type {\n",
              "        vertical-align: middle;\n",
              "    }\n",
              "\n",
              "    .dataframe tbody tr th {\n",
              "        vertical-align: top;\n",
              "    }\n",
              "\n",
              "    .dataframe thead th {\n",
              "        text-align: right;\n",
              "    }\n",
              "</style>\n",
              "<table border=\"1\" class=\"dataframe\">\n",
              "  <thead>\n",
              "    <tr style=\"text-align: right;\">\n",
              "      <th></th>\n",
              "      <th>X1</th>\n",
              "      <th>X2</th>\n",
              "      <th>Y</th>\n",
              "    </tr>\n",
              "  </thead>\n",
              "  <tbody>\n",
              "    <tr>\n",
              "      <th>0</th>\n",
              "      <td>1</td>\n",
              "      <td>1</td>\n",
              "      <td>-1</td>\n",
              "    </tr>\n",
              "    <tr>\n",
              "      <th>1</th>\n",
              "      <td>2</td>\n",
              "      <td>1</td>\n",
              "      <td>-1</td>\n",
              "    </tr>\n",
              "    <tr>\n",
              "      <th>2</th>\n",
              "      <td>1</td>\n",
              "      <td>2</td>\n",
              "      <td>-1</td>\n",
              "    </tr>\n",
              "    <tr>\n",
              "      <th>3</th>\n",
              "      <td>2</td>\n",
              "      <td>2</td>\n",
              "      <td>-1</td>\n",
              "    </tr>\n",
              "    <tr>\n",
              "      <th>4</th>\n",
              "      <td>4</td>\n",
              "      <td>4</td>\n",
              "      <td>1</td>\n",
              "    </tr>\n",
              "    <tr>\n",
              "      <th>5</th>\n",
              "      <td>4</td>\n",
              "      <td>5</td>\n",
              "      <td>1</td>\n",
              "    </tr>\n",
              "    <tr>\n",
              "      <th>6</th>\n",
              "      <td>5</td>\n",
              "      <td>4</td>\n",
              "      <td>1</td>\n",
              "    </tr>\n",
              "    <tr>\n",
              "      <th>7</th>\n",
              "      <td>5</td>\n",
              "      <td>5</td>\n",
              "      <td>1</td>\n",
              "    </tr>\n",
              "  </tbody>\n",
              "</table>\n",
              "</div>\n",
              "      <button class=\"colab-df-convert\" onclick=\"convertToInteractive('df-910b6b52-0bd1-4997-a2f4-54dbf40f35fb')\"\n",
              "              title=\"Convert this dataframe to an interactive table.\"\n",
              "              style=\"display:none;\">\n",
              "        \n",
              "  <svg xmlns=\"http://www.w3.org/2000/svg\" height=\"24px\"viewBox=\"0 0 24 24\"\n",
              "       width=\"24px\">\n",
              "    <path d=\"M0 0h24v24H0V0z\" fill=\"none\"/>\n",
              "    <path d=\"M18.56 5.44l.94 2.06.94-2.06 2.06-.94-2.06-.94-.94-2.06-.94 2.06-2.06.94zm-11 1L8.5 8.5l.94-2.06 2.06-.94-2.06-.94L8.5 2.5l-.94 2.06-2.06.94zm10 10l.94 2.06.94-2.06 2.06-.94-2.06-.94-.94-2.06-.94 2.06-2.06.94z\"/><path d=\"M17.41 7.96l-1.37-1.37c-.4-.4-.92-.59-1.43-.59-.52 0-1.04.2-1.43.59L10.3 9.45l-7.72 7.72c-.78.78-.78 2.05 0 2.83L4 21.41c.39.39.9.59 1.41.59.51 0 1.02-.2 1.41-.59l7.78-7.78 2.81-2.81c.8-.78.8-2.07 0-2.86zM5.41 20L4 18.59l7.72-7.72 1.47 1.35L5.41 20z\"/>\n",
              "  </svg>\n",
              "      </button>\n",
              "      \n",
              "  <style>\n",
              "    .colab-df-container {\n",
              "      display:flex;\n",
              "      flex-wrap:wrap;\n",
              "      gap: 12px;\n",
              "    }\n",
              "\n",
              "    .colab-df-convert {\n",
              "      background-color: #E8F0FE;\n",
              "      border: none;\n",
              "      border-radius: 50%;\n",
              "      cursor: pointer;\n",
              "      display: none;\n",
              "      fill: #1967D2;\n",
              "      height: 32px;\n",
              "      padding: 0 0 0 0;\n",
              "      width: 32px;\n",
              "    }\n",
              "\n",
              "    .colab-df-convert:hover {\n",
              "      background-color: #E2EBFA;\n",
              "      box-shadow: 0px 1px 2px rgba(60, 64, 67, 0.3), 0px 1px 3px 1px rgba(60, 64, 67, 0.15);\n",
              "      fill: #174EA6;\n",
              "    }\n",
              "\n",
              "    [theme=dark] .colab-df-convert {\n",
              "      background-color: #3B4455;\n",
              "      fill: #D2E3FC;\n",
              "    }\n",
              "\n",
              "    [theme=dark] .colab-df-convert:hover {\n",
              "      background-color: #434B5C;\n",
              "      box-shadow: 0px 1px 3px 1px rgba(0, 0, 0, 0.15);\n",
              "      filter: drop-shadow(0px 1px 2px rgba(0, 0, 0, 0.3));\n",
              "      fill: #FFFFFF;\n",
              "    }\n",
              "  </style>\n",
              "\n",
              "      <script>\n",
              "        const buttonEl =\n",
              "          document.querySelector('#df-910b6b52-0bd1-4997-a2f4-54dbf40f35fb button.colab-df-convert');\n",
              "        buttonEl.style.display =\n",
              "          google.colab.kernel.accessAllowed ? 'block' : 'none';\n",
              "\n",
              "        async function convertToInteractive(key) {\n",
              "          const element = document.querySelector('#df-910b6b52-0bd1-4997-a2f4-54dbf40f35fb');\n",
              "          const dataTable =\n",
              "            await google.colab.kernel.invokeFunction('convertToInteractive',\n",
              "                                                     [key], {});\n",
              "          if (!dataTable) return;\n",
              "\n",
              "          const docLinkHtml = 'Like what you see? Visit the ' +\n",
              "            '<a target=\"_blank\" href=https://colab.research.google.com/notebooks/data_table.ipynb>data table notebook</a>'\n",
              "            + ' to learn more about interactive tables.';\n",
              "          element.innerHTML = '';\n",
              "          dataTable['output_type'] = 'display_data';\n",
              "          await google.colab.output.renderOutput(dataTable, element);\n",
              "          const docLink = document.createElement('div');\n",
              "          docLink.innerHTML = docLinkHtml;\n",
              "          element.appendChild(docLink);\n",
              "        }\n",
              "      </script>\n",
              "    </div>\n",
              "  </div>\n",
              "  "
            ],
            "text/plain": [
              "   X1  X2  Y\n",
              "0   1   1 -1\n",
              "1   2   1 -1\n",
              "2   1   2 -1\n",
              "3   2   2 -1\n",
              "4   4   4  1\n",
              "5   4   5  1\n",
              "6   5   4  1\n",
              "7   5   5  1"
            ]
          },
          "execution_count": 2,
          "metadata": {},
          "output_type": "execute_result"
        }
      ],
      "source": [
        "data = np.array([[1, 1, -1], [2, 1, -1], [1, 2, -1], [2, 2, -1], [4, 4, 1], [4, 5, 1], [5, 4, 1], [5, 5, 1]])\n",
        "\n",
        "colnames = ['X1', 'X2', 'Y']\n",
        "df = pd.DataFrame(data, columns=colnames)\n",
        "\n",
        "df"
      ]
    },
    {
      "cell_type": "code",
      "execution_count": 4,
      "metadata": {
        "id": "whzzipQJg-9i"
      },
      "outputs": [],
      "source": [
        "X = data[:, 0:2]\n",
        "y = data[:, 2]"
      ]
    },
    {
      "cell_type": "code",
      "execution_count": 5,
      "metadata": {
        "colab": {
          "base_uri": "https://localhost:8080/"
        },
        "id": "B1STebiRfxOs",
        "outputId": "d3daea9e-1064-4069-d541-9f7c8aa2e816"
      },
      "outputs": [
        {
          "data": {
            "text/plain": [
              "SVC(kernel='linear')"
            ]
          },
          "execution_count": 5,
          "metadata": {},
          "output_type": "execute_result"
        }
      ],
      "source": [
        "from sklearn.svm import LinearSVC\n",
        "clf = svm.SVC(kernel='linear')\n",
        "clf.fit(X,y)"
      ]
    },
    {
      "cell_type": "code",
      "execution_count": 6,
      "metadata": {
        "colab": {
          "base_uri": "https://localhost:8080/"
        },
        "id": "4pBummx7duj6",
        "outputId": "c597a287-5d17-4402-fd7b-f255816c7ab7"
      },
      "outputs": [
        {
          "name": "stdout",
          "output_type": "stream",
          "text": [
            "Weights =  [0.5 0.5]\n"
          ]
        }
      ],
      "source": [
        "w = clf.coef_[0]\n",
        "print(\"Weights = \", w)\n"
      ]
    },
    {
      "cell_type": "code",
      "execution_count": 8,
      "metadata": {
        "colab": {
          "base_uri": "https://localhost:8080/"
        },
        "id": "77g0T4_leP4q",
        "outputId": "4c844afa-b02c-48a8-cd34-c1344b1a0efd"
      },
      "outputs": [
        {
          "name": "stdout",
          "output_type": "stream",
          "text": [
            "Gamma =  -3.0\n"
          ]
        }
      ],
      "source": [
        "gamma = clf.intercept_[0]\n",
        "print(\"Gamma = \", gamma)"
      ]
    },
    {
      "cell_type": "code",
      "execution_count": 9,
      "metadata": {
        "id": "qYuR9cFWj9XN"
      },
      "outputs": [],
      "source": [
        "# get the separating hyperplane\n",
        "w = clf.coef_[0]\n",
        "a = -w[0] / w[1]\n",
        "xx = np.linspace(-5, 5)\n",
        "yy = a * xx - (clf.intercept_[0]) / w[1]"
      ]
    },
    {
      "cell_type": "code",
      "execution_count": 10,
      "metadata": {
        "id": "5hG2LXShj9ah"
      },
      "outputs": [],
      "source": [
        "# plot the parallels to the separating hyperplane that pass through the\n",
        "# support vectors\n",
        "b = clf.support_vectors_[0]\n",
        "yy_down = a * xx + (b[1] - a * b[0])\n",
        "b = clf.support_vectors_[-1]\n",
        "yy_up = a * xx + (b[1] - a * b[0])"
      ]
    },
    {
      "cell_type": "code",
      "execution_count": 11,
      "metadata": {
        "colab": {
          "base_uri": "https://localhost:8080/",
          "height": 265
        },
        "id": "8C3zCekLkF9l",
        "outputId": "8dbcc420-549b-4416-ea76-825dc75d6a7b"
      },
      "outputs": [
        {
          "data": {
            "image/png": "[encoded data removed]",
            "text/plain": [
              "<Figure size 432x288 with 1 Axes>"
            ]
          },
          "metadata": {
            "needs_background": "light"
          },
          "output_type": "display_data"
        }
      ],
      "source": [
        "# plot the line, the points, and the nearest vectors to the plane\n",
        "plt.plot(xx, yy, 'k-')\n",
        "plt.plot(xx, yy_down, 'k--')\n",
        "plt.plot(xx, yy_up, 'k--')\n",
        "\n",
        "plt.scatter(clf.support_vectors_[:, 0], clf.support_vectors_[:, 1],\n",
        "            s=80, facecolors='none')\n",
        "plt.scatter(X[:, 0], X[:, 1], c=y, cmap=plt.cm.Paired)\n",
        "\n",
        "plt.axis('tight')\n",
        "plt.show()"
      ]
    },
    {
      "cell_type": "code",
      "execution_count": null,
      "metadata": {
        "id": "10zS2jsjkGBA"
      },
      "outputs": [],
      "source": []
    }
  ],
  "metadata": {
    "colab": {
      "provenance": []
    },
    "kernelspec": {
      "display_name": "Python 3",
      "name": "python3"
    },
    "language_info": {
      "name": "python"
    }
  },
  "nbformat": 4,
  "nbformat_minor": 0
}
